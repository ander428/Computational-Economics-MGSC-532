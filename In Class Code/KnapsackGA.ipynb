{
  "nbformat": 4,
  "nbformat_minor": 0,
  "metadata": {
    "colab": {
      "name": "KnapsackGA.ipynb",
      "provenance": [],
      "collapsed_sections": []
    },
    "kernelspec": {
      "name": "python3",
      "display_name": "Python 3"
    }
  },
  "cells": [
    {
      "cell_type": "code",
      "metadata": {
        "id": "qgzcsP6RUkZp"
      },
      "source": [
        "#potential solution [0,1,0,0,0,1,1,1,0]\n",
        "\n",
        "import random\n",
        "\n",
        "# knapsack parameters\n",
        "num_items = 10\n",
        "max_weight = 2\n",
        "values = [random.uniform(1,20) for _ in range(num_items)]\n",
        "weights = [random.random() for _ in range(num_items)]"
      ],
      "execution_count": null,
      "outputs": []
    },
    {
      "cell_type": "code",
      "metadata": {
        "id": "7mb3gG57bTDU"
      },
      "source": [
        "solution = []\n",
        "for _ in range(num_items):\n",
        "    solution.append(random.randint(0,1))\n",
        "\n",
        "\n",
        "def knapsack_fitness(solution, values, weights, max_weight):\n",
        "    weighted_weights = []\n",
        "    expected_value = []\n",
        "    for i in range(num_items):\n",
        "        weighted_weights.append(solution[i] * weights[i])\n",
        "    weight = sum(weighted_weights)\n",
        "    if weight > max_weight:\n",
        "        return max_weight - weight\n",
        "    else:\n",
        "        for j in range(num_items):\n",
        "            expected_value.append(solution[j] * values[j])\n",
        "        total_value = sum(expected_value)\n",
        "        return total_value"
      ],
      "execution_count": null,
      "outputs": []
    },
    {
      "cell_type": "markdown",
      "metadata": {
        "id": "32GE2CktcbUF"
      },
      "source": [
        "# Generate Population"
      ]
    },
    {
      "cell_type": "code",
      "metadata": {
        "id": "ywCUFbEgbfyK"
      },
      "source": [
        "# ga parameters\n",
        "population_size = 50\n",
        "num_children = 30\n",
        "mutate_prob = 0.05\n",
        "\n",
        "def random_knapsack_solution(num_items):\n",
        "    return [random.randint(0,1) for _ in range(num_items)] \n",
        "\n",
        "def generate_knapsack_population(num_items, population_size):\n",
        "    population = [random_knapsack_solution(num_items) for _ in range(population_size)]\n",
        "    return population"
      ],
      "execution_count": null,
      "outputs": []
    },
    {
      "cell_type": "markdown",
      "metadata": {
        "id": "KUaClfYUcdlC"
      },
      "source": [
        "# Select Parents & generate children with mutation\n",
        "\n",
        "1 point crossover\n",
        "\n",
        "p1 = *[0,1,1 | ,1,0,0,1,0]*\n",
        "\n",
        "p2 = [0,1,1 | ,1,0,0,1,0]\n",
        "\n",
        "c1 = *[0,1,1 *   ,1,0,0,1,0]\n",
        "\n",
        "c2 = [0,1,1   *,1,0,0,1,0]*\n"
      ]
    },
    {
      "cell_type": "code",
      "metadata": {
        "id": "a9iuIkEDchi2"
      },
      "source": [
        "def mutate_knapsack(solution, prob):\n",
        "  for i in range(len(solution)):\n",
        "    if random.random() < prob:\n",
        "      solution[i] = solution[i]^1 #xor with True to flip\n",
        "  return solution\n",
        "\n",
        "def generate_children(population, num_children, mutate_prob):\n",
        "  children = []\n",
        "\n",
        "  for _ in range(num_children//2):\n",
        "      parents = random.sample(population , 2)\n",
        "      divider = random.randint(0 , len(population[1])-1)\n",
        "                                    \n",
        "      children.append(mutate_knapsack(parents[0][:divider] + parents[1][divider:], mutate_prob))  \n",
        "      children.append(mutate_knapsack(parents[1][:divider] + parents[0][divider:], mutate_prob))  \n",
        "\n",
        "  return children"
      ],
      "execution_count": null,
      "outputs": []
    },
    {
      "cell_type": "markdown",
      "metadata": {
        "id": "rWPFO8oodID1"
      },
      "source": [
        "# Survival / Selection for next population"
      ]
    },
    {
      "cell_type": "code",
      "metadata": {
        "id": "5rGZLOKtdNCh"
      },
      "source": [
        "def tournament_survival(new_population, population_size): # this is what we are working on\n",
        "    \n",
        "    trimmed_population = []\n",
        "    for i in range(population_size):\n",
        "        individual = new_population[random.randint(0, len(new_population) - 1)] #random.random(0, population_size)\n",
        "        individual2 = new_population[random.randint(0, len(new_population) - 1)]\n",
        "        \n",
        "        if knapsack_fitness(individual, values, weights, max_weight) >= knapsack_fitness(individual2, values, weights, max_weight):    # fitness func undefined so far\n",
        "            trimmed_population.append(list(individual))\n",
        "        else:\n",
        "            trimmed_population.append(list(individual2))\n",
        "            \n",
        "    return trimmed_population\n",
        "# select two and compare fitnesses, then select best individual among those 2 individuals to be parents."
      ],
      "execution_count": null,
      "outputs": []
    },
    {
      "cell_type": "markdown",
      "metadata": {
        "id": "B068xXDWn56l"
      },
      "source": [
        "# put it all together\n"
      ]
    },
    {
      "cell_type": "code",
      "metadata": {
        "id": "hJ76U-Thn7gP"
      },
      "source": [
        "initial_population = generate_knapsack_population(num_items, population_size)\n",
        "\n",
        "mutate_prob = 0.05\n",
        "\n",
        "def ga_iteration(population, num_children, mutate_prob):\n",
        "  children = generate_children(population, num_children, mutate_prob)\n",
        "  return tournament_survival(population + children, len(population))\n",
        "\n",
        "current_population = initial_population\n",
        "for _ in range(10000):\n",
        "  current_population = ga_iteration(current_population, num_children, mutate_prob)"
      ],
      "execution_count": null,
      "outputs": []
    },
    {
      "cell_type": "code",
      "metadata": {
        "colab": {
          "base_uri": "https://localhost:8080/"
        },
        "id": "LLyzdngYyZSf",
        "outputId": "cd6a9360-f429-48b5-b797-26b65298e906"
      },
      "source": [
        "knapsack_fitness(current_population[0], values, weights, max_weight)"
      ],
      "execution_count": null,
      "outputs": [
        {
          "output_type": "execute_result",
          "data": {
            "text/plain": [
              "71.5783051250558"
            ]
          },
          "metadata": {
            "tags": []
          },
          "execution_count": 200
        }
      ]
    },
    {
      "cell_type": "code",
      "metadata": {
        "colab": {
          "base_uri": "https://localhost:8080/"
        },
        "id": "NcLFcllAltNC",
        "outputId": "e7e1a6fc-d850-46e7-c36c-3ca914c3e434"
      },
      "source": [
        "[knapsack_fitness(s, values, weights, max_weight) for s in initial_population]"
      ],
      "execution_count": null,
      "outputs": [
        {
          "output_type": "execute_result",
          "data": {
            "text/plain": [
              "[36.97922933417239,\n",
              " -0.28933271477233946,\n",
              " -1.5812368051466712,\n",
              " 23.62206804409492,\n",
              " 44.69163703198233,\n",
              " -0.1495737321712891,\n",
              " 39.524746185011416,\n",
              " -0.7670508503064619,\n",
              " 15.481284802065215,\n",
              " 45.582710773359906]"
            ]
          },
          "metadata": {
            "tags": []
          },
          "execution_count": 201
        }
      ]
    },
    {
      "cell_type": "code",
      "metadata": {
        "id": "LCmuCONDl1Ix"
      },
      "source": [
        ""
      ],
      "execution_count": null,
      "outputs": []
    }
  ]
}